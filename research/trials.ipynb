{
 "cells": [
  {
   "cell_type": "code",
   "execution_count": 1,
   "metadata": {},
   "outputs": [],
   "source": [
    "import gdown"
   ]
  },
  {
   "cell_type": "code",
   "execution_count": 2,
   "metadata": {},
   "outputs": [],
   "source": [
    "drive_url = \"https://drive.google.com/file/d/1gXoyTGOxj2Qv9RFrni15BYh596HRKSu5/view?usp=share_link\""
   ]
  },
  {
   "cell_type": "code",
   "execution_count": 5,
   "metadata": {},
   "outputs": [],
   "source": [
    "id = drive_url.split('/')[-2]"
   ]
  },
  {
   "cell_type": "code",
   "execution_count": 6,
   "metadata": {},
   "outputs": [],
   "source": [
    "prefix = \"https://drive.google.com/uc?/export=download&id=\""
   ]
  },
  {
   "cell_type": "code",
   "execution_count": 7,
   "metadata": {},
   "outputs": [
    {
     "name": "stderr",
     "output_type": "stream",
     "text": [
      "Downloading...\n",
      "From (original): https://drive.google.com/uc?/export=download&id=1gXoyTGOxj2Qv9RFrni15BYh596HRKSu5\n",
      "From (redirected): https://drive.google.com/uc?%2Fexport=download&id=1gXoyTGOxj2Qv9RFrni15BYh596HRKSu5&confirm=t&uuid=ba5946d3-90cb-4b5b-94ac-f354b99964ff\n",
      "To: /Users/aniketanvekar/Documents/Kidney-Classification-System/research/KidneyScan_Dataset.zip\n",
      "100%|██████████| 943M/943M [00:51<00:00, 18.4MB/s] \n"
     ]
    },
    {
     "data": {
      "text/plain": [
       "'KidneyScan_Dataset.zip'"
      ]
     },
     "execution_count": 7,
     "metadata": {},
     "output_type": "execute_result"
    }
   ],
   "source": [
    "gdown.download(prefix+id, \"KidneyScan_Dataset.zip\")"
   ]
  },
  {
   "cell_type": "code",
   "execution_count": null,
   "metadata": {},
   "outputs": [],
   "source": []
  }
 ],
 "metadata": {
  "kernelspec": {
   "display_name": "CNN_cls",
   "language": "python",
   "name": "python3"
  },
  "language_info": {
   "codemirror_mode": {
    "name": "ipython",
    "version": 3
   },
   "file_extension": ".py",
   "mimetype": "text/x-python",
   "name": "python",
   "nbconvert_exporter": "python",
   "pygments_lexer": "ipython3",
   "version": "3.8.18"
  }
 },
 "nbformat": 4,
 "nbformat_minor": 2
}
